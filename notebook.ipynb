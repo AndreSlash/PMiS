{
  "nbformat": 4,
  "nbformat_minor": 0,
  "metadata": {
    "colab": {
      "name": "Lab3-NS.ipynb",
      "provenance": [],
      "collapsed_sections": []
    },
    "kernelspec": {
      "name": "python3",
      "display_name": "Python 3"
    },
    "language_info": {
      "name": "python"
    }
  },
  "cells": [
    {
      "cell_type": "markdown",
      "source": [
        "# Laboratorium 3 - klasteryzacja (clustering)\n",
        "\n",
        "> Klasteryzacja (zwana też często grupowaniem) polega na szukaniu naturalnie występujących skupisk w danych. Jest to zadanie z grupy algorytmów uczenia nienadzorowanego, ponieważ nie ma z góry znanej, optymalnej liczby klastrów, które występują (lub nie) w danym zbiorze - musi zostać ona wyznaczona eksperymentalnie. Teoretycznie chcemy, aby znalezione klastry zawierały egzemplarze danych w jakiś sposób do siebie podobnych. Bardzo często zakładaną miarą podobieństwa jest odległość między egzemplarzami danych, np. euklidesowa.  \n",
        "  \n",
        "\n",
        "> Grupowanie może być przydatne m.in w zadaniu segmentacji rynku: poddając dane klientów algorytmom klasteryzacji możemy znaleźć grupy klientów podobnych do siebie i np. zaproponować im podobną ofertę lub reklamę. Grupowanie jest też częścią niektórych algorytmów rekomendujących - sklep internetowy może nam sugerować np. produkty podobne do tych, które już kupiliśmy (grupowanie produktów) lub produkty kupione przez osoby o podobnym profilu do naszego (grupowanie klientów).\n",
        "\n",
        "> Istnieje bardzo dużo algorytmów grupowania, które dają różne rezultaty w zależności od pierwotnego ułożenia danych. Część algorytmów wymaga podania na wstępie parametru w postaci liczby klastrów, część z nich podaje tę liczbę jako wynik swojego działania. Poniższa grafika z dokumentacji scikit-learn (https://scikit-learn.org/stable/modules/clustering.html) przedstawia efekty grupowania kilku 2-wymiarowych zbiorów danych za pomocą różnych algorytmów. Jak widać, nie każdy algorytm równie skutecznie dzieli dane na grupy (w tym wypadku skuteczność oznacza wykrycie grup, które są łatwo rozróżnialne w 2 wymiarach dla ludzkiego oka)."
      ],
      "metadata": {
        "id": "XA_CryoTkhSz"
      }
    },
    {
      "cell_type": "code",
      "source": [
        "from IPython.display import Image\n",
        "Image(url='https://scikit-learn.org/stable/_images/sphx_glr_plot_cluster_comparison_001.png', width=950, height=600)"
      ],
      "metadata": {
        "colab": {
          "base_uri": "https://localhost:8080/",
          "height": 621
        },
        "id": "Z7qnoUXsKNPe",
        "outputId": "01f6e924-2d74-4ef3-ede6-7aceea74ce8b"
      },
      "execution_count": 13,
      "outputs": [
        {
          "output_type": "execute_result",
          "data": {
            "text/html": [
              "<img src=\"https://scikit-learn.org/stable/_images/sphx_glr_plot_cluster_comparison_001.png\" width=\"950\" height=\"600\"/>"
            ],
            "text/plain": [
              "<IPython.core.display.Image object>"
            ]
          },
          "metadata": {},
          "execution_count": 13
        }
      ]
    },
    {
      "cell_type": "markdown",
      "source": [
        "## DBSCAN\n",
        "\n",
        "> Jednym z stosunkowo popularniejszych i uniwersalnych w zastosowaniu jest algorytm DBSCAN, przedstawiony też na grafice powyżej. Przyglądając się jego wynikom na różnych danych zaobserwujemy m.in., że jest on w stanie wykrywać wartości odstające (kropki koloru czarnego, nie przypisane do żadnego z klastrów), nie wykrywa nadmiarowych klastrów w przypadku, gdy ich nie ma (ostatni rząd) oraz radzi sobie z bardziej skompikowanymi kształtami klastrów, które nie mają kulistego kształtu (pierwszy i drugi rząd).\n",
        "\n",
        "> Zasada działania algorytmu jest stosunkowo prosta i opiera się na założeniu, że klastry występują tam, gdzie dane są odpowiednio \"gęsto\" ułożone. Na początku algorytm dostaje dwa parametry, ***n*** i ***epsilon*** - klaster wykryty jest tam, gdzie co najmniej *n* punktów znajduje się w odległości nie większej niż *epsilon* od pierwotnego punktu. Algorytm zaczyna pracę od losowego punktu i sprawdza, czy w odległości *epsilon* od niego znajduje się co najmniej n innych punktów. Jeśli tak, wszystkie te n+1 punktów zostaje zapisane do pierwszego klastra. Jeśli nie, to punkt zostaje uznany za wartość odstającą. Proces powtarzany jest dla wszystkich punktów aż do momentu, gdy każdy został zakwalifikowany do jakiegoś klastra lub uznany za odstający - wartości odstające określa się też jako \"noise\", czyli szum w danych.\n",
        "\n",
        "> Poniższa animacja ilustruje, jak przebiega proces grupowania DBSCAN. Jak widać, liczba klastrów zostaje w ten sposób naturalnie wyznaczona na podstawie danych."
      ],
      "metadata": {
        "id": "WtIcchZuLOYa"
      }
    },
    {
      "cell_type": "code",
      "source": [
        "from IPython.display import Image\n",
        "Image(url='https://miro.medium.com/max/888/1*WBRWZwSeIw-V4Hw9-_0xrQ.gif')"
      ],
      "metadata": {
        "colab": {
          "base_uri": "https://localhost:8080/",
          "height": 445
        },
        "id": "-tfHnNSvNdMZ",
        "outputId": "52ea0fc3-0b5b-4b59-fb20-d1697e662b83"
      },
      "execution_count": 9,
      "outputs": [
        {
          "output_type": "execute_result",
          "data": {
            "text/html": [
              "<img src=\"https://miro.medium.com/max/888/1*WBRWZwSeIw-V4Hw9-_0xrQ.gif\"/>"
            ],
            "text/plain": [
              "<IPython.core.display.Image object>"
            ]
          },
          "metadata": {},
          "execution_count": 9
        }
      ]
    },
    {
      "cell_type": "markdown",
      "source": [
        "## **Pytanie: w jakiej sytuacji DBSCAN nie będzie poprawnie wykrywać klastrów?**"
      ],
      "metadata": {
        "id": "bLv7vVimS5bp"
      }
    },
    {
      "cell_type": "markdown",
      "source": [
        "## K-means clustering\n",
        "\n",
        "> Kolejnym popularnym pomysłem na grupowanie jest algorytm k-średnich. Pierwszym krokiem algorytmu jest wylosowanie **k** punktów centralnych, które docelowo mają wyznaczyć centra klastrów. Na podstawie tych pierwszych, losowo wyznaczonych punktów dane są przypisywane do grup w następujący sposób: każdy punkt zostaje zapisany do jednego z **k** klastrów na podstawie najbliżej położonego punktu centralnego. Po przeprowadzeniu tego procesu do końca, wszystkie punkty są jednoznacznie przypisane do któregoś z klastrów. Jak poprawić te (chwilowo losowe) klastry? Dla każdego z nich wyznaczany jest nowy punkt centralny - tym razem nie losowo, tylko za pomocą średniej z punktów klastra. Po wyznaczeniu nowych centrów, cały proces jest powtarzany, tj. wszystkie punkty zostają ponownie przypisane do ich najbliżej znajdującego się centrum, następnie z ich średniej wyznaczane są nowe centra... Powtarzanie procesu zakańcza się w momencie, gdy centra klastrów w kolejnych iteracjach nie zmieniają swojego położenia.\n",
        "\n",
        "> Film ilustrujący algorytm krok po kroku: https://youtu.be/4b5d3muPQmA?t=33\n",
        "\n",
        "> Poniżej: animacja ilustrująca grupowania k-średnich"
      ],
      "metadata": {
        "id": "GgzOLVK0OA4m"
      }
    },
    {
      "cell_type": "code",
      "source": [
        "from IPython.display import Image\n",
        "Image(url='https://miro.medium.com/max/960/1*KrcZK0xYgTa4qFrVr0fO2w.gif')"
      ],
      "metadata": {
        "colab": {
          "base_uri": "https://localhost:8080/",
          "height": 501
        },
        "id": "knCAY2K29trB",
        "outputId": "37803abb-bbf0-4d61-f706-02ef38e70372"
      },
      "execution_count": 14,
      "outputs": [
        {
          "output_type": "execute_result",
          "data": {
            "text/html": [
              "<img src=\"https://miro.medium.com/max/960/1*KrcZK0xYgTa4qFrVr0fO2w.gif\"/>"
            ],
            "text/plain": [
              "<IPython.core.display.Image object>"
            ]
          },
          "metadata": {},
          "execution_count": 14
        }
      ]
    },
    {
      "cell_type": "markdown",
      "source": [
        "# Zadanie\n",
        "\n",
        "Zaimplementować samodzielnie wybrany algorytm grupowaniaa: DBSCAN lub k-średnich. Grupowanie nalezy wykonać na testowym zbiorze danych, wygenerowanych poniżej za pomocą specjalnej funkcji *make_blobs* z biblioteki scikit-learn."
      ],
      "metadata": {
        "id": "l4bRQSirRR3y"
      }
    },
    {
      "cell_type": "markdown",
      "source": [
        "## Dane"
      ],
      "metadata": {
        "id": "yVBTASjYSfoh"
      }
    },
    {
      "cell_type": "code",
      "execution_count": 16,
      "metadata": {
        "id": "7zTkpoIokgwy"
      },
      "outputs": [],
      "source": [
        "import numpy as np\n",
        "from sklearn.datasets import make_blobs\n",
        "import matplotlib.pyplot as plt"
      ]
    },
    {
      "cell_type": "code",
      "source": [
        "data, labels, centers = make_blobs(n_samples=[1000, 200, 100], n_features=2, random_state=2022, return_centers=True)"
      ],
      "metadata": {
        "id": "LQEWbWXtTP5o"
      },
      "execution_count": 17,
      "outputs": []
    },
    {
      "cell_type": "code",
      "source": [
        "x = data[:, 0] # wydobywamy same koordynaty x ze wszystkich punktów\n",
        "y = data[:, 1] # wydobywamy same koordynaty y ze wszystkich punktów"
      ],
      "metadata": {
        "id": "m8JuwGSFTUR_"
      },
      "execution_count": 18,
      "outputs": []
    },
    {
      "cell_type": "code",
      "source": [
        "labels # dane zawieraja 3 klastry - tablica 'labels' przechowuje informację, do którego klastra należy n-ty punkt"
      ],
      "metadata": {
        "colab": {
          "base_uri": "https://localhost:8080/"
        },
        "id": "u7wyXmFxTgLe",
        "outputId": "c1da3759-d496-4dd0-deb7-48edab8b7489"
      },
      "execution_count": 21,
      "outputs": [
        {
          "output_type": "execute_result",
          "data": {
            "text/plain": [
              "array([1, 0, 0, ..., 0, 0, 0])"
            ]
          },
          "metadata": {},
          "execution_count": 21
        }
      ]
    },
    {
      "cell_type": "code",
      "source": [
        "# przedstawiamy wygenerowane klastry na wykresie\n",
        "# kolory odpowiadają 'właściwemu' podziałowi na klastry\n",
        "# ten sam podział chcemy uzyskać za pomocą naszego algorytmu\n",
        "fig, ax = plt.subplots(figsize=(8, 8))\n",
        "ax.scatter(x, y, c=labels)\n",
        "\n",
        "plt.show()"
      ],
      "metadata": {
        "colab": {
          "base_uri": "https://localhost:8080/",
          "height": 483
        },
        "id": "NNADRlVQTt5N",
        "outputId": "d68052d5-fd92-4006-914c-e8058b829ff3"
      },
      "execution_count": 24,
      "outputs": [
        {
          "output_type": "display_data",
          "data": {
            "image/png": "[encoded data removed]",
            "text/plain": [
              "<Figure size 576x576 with 1 Axes>"
            ]
          },
          "metadata": {
            "needs_background": "light"
          }
        }
      ]
    },
    {
      "cell_type": "markdown",
      "source": [
        "Funkcje, które mogą przydać się w implementacji:"
      ],
      "metadata": {
        "id": "QklROQhiUUmw"
      }
    },
    {
      "cell_type": "code",
      "source": [
        "# Generowanie n-wymiarowych punktów, których koordynaty mieszczą się w zakresie od 0 do 1\n",
        "# np.random.uniform(low=0, high=1, size=(n,))"
      ],
      "metadata": {
        "id": "eZNJvxatUJxE"
      },
      "execution_count": null,
      "outputs": []
    },
    {
      "cell_type": "code",
      "source": [
        "p31 = np.random.uniform(low=0, high=1, size=(3,)) # wylosuj trzy 1-wymiarowe punkty\n",
        "p31"
      ],
      "metadata": {
        "colab": {
          "base_uri": "https://localhost:8080/"
        },
        "id": "FeWVW7yVUyYV",
        "outputId": "1a1cdb10-c1c6-416f-fdfd-225ecc65e086"
      },
      "execution_count": 33,
      "outputs": [
        {
          "output_type": "execute_result",
          "data": {
            "text/plain": [
              "array([0.08291023, 0.08062271, 0.54220681])"
            ]
          },
          "metadata": {},
          "execution_count": 33
        }
      ]
    },
    {
      "cell_type": "code",
      "source": [
        "p52 = np.random.uniform(low=0, high=1, size=(5, 2)) # wylosuj pięć 2-wymiarowych punktów\n",
        "p52"
      ],
      "metadata": {
        "colab": {
          "base_uri": "https://localhost:8080/"
        },
        "id": "v6Huk6fBU0UF",
        "outputId": "6c523a8e-0f02-470b-a9bc-e6c59b609f8d"
      },
      "execution_count": 34,
      "outputs": [
        {
          "output_type": "execute_result",
          "data": {
            "text/plain": [
              "array([[0.58349545, 0.57576271],\n",
              "       [0.53805439, 0.65359556],\n",
              "       [0.38639432, 0.62886817],\n",
              "       [0.10977975, 0.01209693],\n",
              "       [0.54257591, 0.41678714]])"
            ]
          },
          "metadata": {},
          "execution_count": 34
        }
      ]
    },
    {
      "cell_type": "code",
      "source": [
        "# liczenie odległości euklidesowej między dwoma punktami\n",
        "point_1 = np.array([3, 0])\n",
        "point_2 = np.array([0, 0])\n",
        "\n",
        "np.linalg.norm(point_1 - point_2)"
      ],
      "metadata": {
        "colab": {
          "base_uri": "https://localhost:8080/"
        },
        "id": "X77xhL3YU2s8",
        "outputId": "d68b17a4-210d-4116-9023-51eda75e1840"
      },
      "execution_count": 35,
      "outputs": [
        {
          "output_type": "execute_result",
          "data": {
            "text/plain": [
              "3.0"
            ]
          },
          "metadata": {},
          "execution_count": 35
        }
      ]
    },
    {
      "cell_type": "code",
      "source": [
        "# obliczenia za pomoca numpy mozna od razu wykonywac dla wszystkich elementów w tablicy:\n",
        "np.mean(p31) # średnia arytmetyczna\n",
        "ind = np.argmin(p31) # indeks najmniejszego elementu\n",
        "p31[ind]"
      ],
      "metadata": {
        "colab": {
          "base_uri": "https://localhost:8080/"
        },
        "id": "yWNCgqnBWSgC",
        "outputId": "9f29c344-e95f-4347-de7c-b11ee29d7376"
      },
      "execution_count": 41,
      "outputs": [
        {
          "output_type": "execute_result",
          "data": {
            "text/plain": [
              "0.08062271349723305"
            ]
          },
          "metadata": {},
          "execution_count": 41
        }
      ]
    },
    {
      "cell_type": "code",
      "source": [
        "# powtórka z Pythona:\n",
        "listy = [[] for i in range(3)] # generacja listy n pustych list\n",
        "listy[0].append(123) # dodawanie elementu do pierwszej z list\n",
        "list(p31) # zamiana tablicy numpy na liste pythonowa\n",
        "np.array([1, 2, 3]) # tablica numpy na podstawie listy liczb"
      ],
      "metadata": {
        "colab": {
          "base_uri": "https://localhost:8080/"
        },
        "id": "zS2Vih0wVgW8",
        "outputId": "0136c2ed-e498-44cf-e419-3a11be08082d"
      },
      "execution_count": 43,
      "outputs": [
        {
          "output_type": "execute_result",
          "data": {
            "text/plain": [
              "[array([0.58349545, 0.57576271]),\n",
              " array([0.53805439, 0.65359556]),\n",
              " array([0.38639432, 0.62886817]),\n",
              " array([0.10977975, 0.01209693]),\n",
              " array([0.54257591, 0.41678714])]"
            ]
          },
          "metadata": {},
          "execution_count": 43
        }
      ]
    },
    {
      "cell_type": "code",
      "source": [
        ""
      ],
      "metadata": {
        "id": "WIbIEm_7V-PT"
      },
      "execution_count": null,
      "outputs": []
    }
  ]
}